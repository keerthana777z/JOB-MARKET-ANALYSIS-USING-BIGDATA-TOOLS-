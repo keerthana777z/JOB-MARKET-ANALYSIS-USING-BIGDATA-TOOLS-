{
  "nbformat": 4,
  "nbformat_minor": 0,
  "metadata": {
    "colab": {
      "provenance": [],
      "include_colab_link": true
    },
    "kernelspec": {
      "name": "python3",
      "display_name": "Python 3"
    },
    "language_info": {
      "name": "python"
    }
  },
  "cells": [
    {
      "cell_type": "markdown",
      "metadata": {
        "id": "view-in-github",
        "colab_type": "text"
      },
      "source": [
        "<a href=\"https://colab.research.google.com/github/Vishal8500/Job-Market-Analysis-using-Big-Data-tools/blob/main/Job%20Market%20Analysis.ipynb\" target=\"_parent\"><img src=\"https://colab.research.google.com/assets/colab-badge.svg\" alt=\"Open In Colab\"/></a>"
      ]
    },
    {
      "cell_type": "code",
      "source": [
        "from google.colab import drive\n",
        "drive.mount('/content/drive')"
      ],
      "metadata": {
        "colab": {
          "base_uri": "https://localhost:8080/"
        },
        "id": "QHQY3vwpD9Ox",
        "outputId": "e2b6b23e-3a4e-4eb9-d83f-5da639b7f4f4"
      },
      "execution_count": 1,
      "outputs": [
        {
          "output_type": "stream",
          "name": "stdout",
          "text": [
            "Mounted at /content/drive\n"
          ]
        }
      ]
    },
    {
      "cell_type": "code",
      "source": [
        "!apt-get install openjdk-8-jdk-headless -qq > /dev/null\n"
      ],
      "metadata": {
        "id": "mBna5-Ulux_d"
      },
      "execution_count": 2,
      "outputs": []
    },
    {
      "cell_type": "code",
      "source": [
        "!curl -I https://www.google.com\n"
      ],
      "metadata": {
        "colab": {
          "base_uri": "https://localhost:8080/"
        },
        "id": "UImzQpQju9QT",
        "outputId": "ba6b3dde-f8fe-4ac5-9ff8-646fbb20925e"
      },
      "execution_count": 3,
      "outputs": [
        {
          "output_type": "stream",
          "name": "stdout",
          "text": [
            "HTTP/2 200 \r\n",
            "\u001b[1mcontent-type\u001b[0m: text/html; charset=ISO-8859-1\r\n",
            "\u001b[1mcontent-security-policy-report-only\u001b[0m: object-src 'none';base-uri 'self';script-src 'nonce-d-tCDdL3mztFax-UDhIdCA' 'strict-dynamic' 'report-sample' 'unsafe-eval' 'unsafe-inline' https: http:;report-uri https://csp.withgoogle.com/csp/gws/other-hp\r\n",
            "\u001b[1maccept-ch\u001b[0m: Sec-CH-Prefers-Color-Scheme\r\n",
            "\u001b[1mp3p\u001b[0m: CP=\"This is not a P3P policy! See g.co/p3phelp for more info.\"\r\n",
            "\u001b[1mdate\u001b[0m: Tue, 15 Apr 2025 15:29:03 GMT\r\n",
            "\u001b[1mserver\u001b[0m: gws\r\n",
            "\u001b[1mx-xss-protection\u001b[0m: 0\r\n",
            "\u001b[1mx-frame-options\u001b[0m: SAMEORIGIN\r\n",
            "\u001b[1mexpires\u001b[0m: Tue, 15 Apr 2025 15:29:03 GMT\r\n",
            "\u001b[1mcache-control\u001b[0m: private\r\n",
            "\u001b[1mset-cookie\u001b[0m: AEC=AVcja2eHBQSc2j7GB--Sp_SdB5rVs2V_4A9rfiY21u79h5ZVDnyQwBOA5g; expires=Sun, 12-Oct-2025 15:29:03 GMT; path=/; domain=.google.com; Secure; HttpOnly; SameSite=lax\r\n",
            "\u001b[1mset-cookie\u001b[0m: __Secure-ENID=27.SE=itGJAWfNFKVgmKL2pilV6GzClG5NQHm2lHojOx5bVS-oWikpvZzoyLQvq_FQJXKTxuDDVCOJsx_0Au2DKHBIowAUkoZOqeQ4b7s28Hj1WYN2Ebmy76YTVvry6Rvw2QMLxrCDIVF4iFT8NKuTOpBR8rB0tI90x9lCEZj9LnbfoV-VK--HHlMgEYbEgRAs2xAzW1rHAGK8lupKOcvxFI1T1DcK_JZKe64GlYTjRwVotrAjUsLe4gs9Tahn71c18Q; expires=Sat, 16-May-2026 07:47:21 GMT; path=/; domain=.google.com; Secure; HttpOnly; SameSite=lax\r\n",
            "\r\n"
          ]
        }
      ]
    },
    {
      "cell_type": "code",
      "source": [
        "!wget -q https://dlcdn.apache.org/spark/spark-3.5.5/spark-3.5.5-bin-hadoop3.tgz\n"
      ],
      "metadata": {
        "id": "rF-i30wTuzKu"
      },
      "execution_count": 12,
      "outputs": []
    },
    {
      "cell_type": "code",
      "source": [
        "!ls -lh\n"
      ],
      "metadata": {
        "colab": {
          "base_uri": "https://localhost:8080/"
        },
        "id": "-ZaeQqqwvBpq",
        "outputId": "086b2d5a-84ca-49da-d4be-ca959fe24c30"
      },
      "execution_count": 13,
      "outputs": [
        {
          "output_type": "stream",
          "name": "stdout",
          "text": [
            "total 383M\n",
            "drwx------ 6 root root 4.0K Apr 15 15:27 drive\n",
            "drwxr-xr-x 1 root root 4.0K Apr 11 13:37 sample_data\n",
            "-rw-r--r-- 1 root root 383M Feb 23 20:47 spark-3.5.5-bin-hadoop3.tgz\n"
          ]
        }
      ]
    },
    {
      "cell_type": "code",
      "source": [
        "!tar xf spark-3.5.5-bin-hadoop3.tgz\n"
      ],
      "metadata": {
        "id": "ubPm9ycJvCIH"
      },
      "execution_count": 14,
      "outputs": []
    },
    {
      "cell_type": "code",
      "source": [
        "!pip install pyspark"
      ],
      "metadata": {
        "colab": {
          "base_uri": "https://localhost:8080/"
        },
        "id": "aj3w2yCWvERK",
        "outputId": "24130eef-9928-4ad2-c9cd-2f7dd6c93ebb"
      },
      "execution_count": 15,
      "outputs": [
        {
          "output_type": "stream",
          "name": "stdout",
          "text": [
            "Requirement already satisfied: pyspark in /usr/local/lib/python3.11/dist-packages (3.5.5)\n",
            "Requirement already satisfied: py4j==0.10.9.7 in /usr/local/lib/python3.11/dist-packages (from pyspark) (0.10.9.7)\n"
          ]
        }
      ]
    },
    {
      "cell_type": "code",
      "source": [
        "import os\n",
        "from pyspark.sql import SparkSession\n",
        "\n",
        "# Set up environment variables for PySpark\n",
        "os.environ[\"JAVA_HOME\"] = \"/usr/lib/jvm/java-8-openjdk-amd64\"\n",
        "os.environ[\"SPARK_HOME\"] = \"/content/spark-3.5.5-bin-hadoop3\" # Updated path to reflect actual download\n",
        "\n",
        "# Initialize Spark session\n",
        "spark = SparkSession.builder.appName(\"SalaryPrediction\").getOrCreate()\n",
        "\n",
        "# Assuming the uploaded file is 'indeed_results.csv'\n",
        "file_path = \"/content/drive/MyDrive/indeed_scraped_dataset.csv\"\n",
        "\n",
        "df = spark.read.csv(file_path, header=True, inferSchema=True)\n",
        "\n",
        "# Rename 'salary_avg' to 'label'\n",
        "df = df.withColumnRenamed(\"salary_avg\", \"label\")\n",
        "\n",
        "# Define categorical columns\n",
        "categorical_cols = [\"title\", \"search_city\"]\n"
      ],
      "metadata": {
        "id": "xkJcPOFwvHws"
      },
      "execution_count": 37,
      "outputs": []
    },
    {
      "cell_type": "code",
      "source": [
        "from pyspark.ml.feature import StringIndexer, VectorAssembler, StandardScaler\n",
        "\n",
        "# Apply StringIndexer to categorical columns\n",
        "indexers = {}\n",
        "for col in categorical_cols:\n",
        "    indexer = StringIndexer(inputCol=col, outputCol=f\"{col}_index\").fit(df)\n",
        "    df = indexer.transform(df)\n",
        "    indexers[col] = indexer\n",
        "\n",
        "# Assemble features\n",
        "feature_cols = [f\"{col}_index\" for col in categorical_cols]\n",
        "assembler = VectorAssembler(inputCols=feature_cols, outputCol=\"features\")\n",
        "df = assembler.transform(df)\n",
        "\n",
        "# Scale features\n",
        "scaler = StandardScaler(inputCol=\"features\", outputCol=\"scaled_features\")\n",
        "scaler_model = scaler.fit(df)\n",
        "df = scaler_model.transform(df)\n",
        "\n",
        "# Split dataset into training and testing sets\n",
        "train_df, test_df = df.randomSplit([0.8, 0.2], seed=42)\n"
      ],
      "metadata": {
        "id": "bdDn-OOgvKUz"
      },
      "execution_count": 18,
      "outputs": []
    },
    {
      "cell_type": "code",
      "source": [
        "import time\n",
        "\n",
        "# Function to train and evaluate models\n",
        "def train_and_evaluate(model, train_df, test_df):\n",
        "    start_train_time = time.time()\n",
        "    model_fitted = model.fit(train_df)\n",
        "    end_train_time = time.time()\n",
        "\n",
        "    # Prediction\n",
        "    start_pred_time = time.time()\n",
        "    predictions = model_fitted.transform(test_df)\n",
        "    end_pred_time = time.time()\n",
        "\n",
        "    # Evaluation - RMSE\n",
        "    from pyspark.ml.evaluation import RegressionEvaluator\n",
        "    evaluator = RegressionEvaluator(labelCol=\"label\", predictionCol=\"prediction\", metricName=\"rmse\")\n",
        "    rmse = evaluator.evaluate(predictions)\n",
        "\n",
        "    return rmse, (end_train_time - start_train_time), (end_pred_time - start_pred_time)\n"
      ],
      "metadata": {
        "id": "UV11R33VvMI-"
      },
      "execution_count": 19,
      "outputs": []
    },
    {
      "cell_type": "code",
      "source": [
        "from pyspark.ml.regression import LinearRegression\n",
        "\n",
        "# Linear Regression model\n",
        "lr = LinearRegression(featuresCol=\"scaled_features\", labelCol=\"label\")\n",
        "\n",
        "# Train and evaluate Linear Regression\n",
        "lr_rmse, lr_train_time, lr_pred_time = train_and_evaluate(lr, train_df, test_df)\n",
        "\n",
        "print(f\"Linear Regression RMSE: {lr_rmse}, Training Time: {lr_train_time}s, Prediction Time: {lr_pred_time}s\")\n"
      ],
      "metadata": {
        "colab": {
          "base_uri": "https://localhost:8080/"
        },
        "id": "AmJYrx6ZvN8b",
        "outputId": "d239540d-dd8f-4925-840a-69e83c07ac4f"
      },
      "execution_count": 20,
      "outputs": [
        {
          "output_type": "stream",
          "name": "stdout",
          "text": [
            "Linear Regression RMSE: 31936.86640913991, Training Time: 5.248168230056763s, Prediction Time: 0.04131054878234863s\n"
          ]
        }
      ]
    },
    {
      "cell_type": "code",
      "source": [
        "from pyspark.ml.regression import RandomForestRegressor\n",
        "\n",
        "# Random Forest model\n",
        "rf = RandomForestRegressor(featuresCol=\"scaled_features\", labelCol=\"label\", numTrees=100)\n",
        "\n",
        "# Train and evaluate Random Forest\n",
        "rf_rmse, rf_train_time, rf_pred_time = train_and_evaluate(rf, train_df, test_df)\n",
        "\n",
        "print(f\"Random Forest RMSE: {rf_rmse}, Training Time: {rf_train_time}s, Prediction Time: {rf_pred_time}s\")\n"
      ],
      "metadata": {
        "colab": {
          "base_uri": "https://localhost:8080/"
        },
        "id": "eISwFTDXvPdE",
        "outputId": "76356126-d1a2-4a96-dd99-98ee34ed3f4d"
      },
      "execution_count": 21,
      "outputs": [
        {
          "output_type": "stream",
          "name": "stdout",
          "text": [
            "Random Forest RMSE: 28580.43717064462, Training Time: 4.932906150817871s, Prediction Time: 0.22176814079284668s\n"
          ]
        }
      ]
    },
    {
      "cell_type": "code",
      "source": [
        "from pyspark.ml.regression import DecisionTreeRegressor\n",
        "\n",
        "# Decision Tree model\n",
        "dt = DecisionTreeRegressor(featuresCol=\"scaled_features\", labelCol=\"label\")\n",
        "\n",
        "# Train and evaluate Decision Tree\n",
        "dt_rmse, dt_train_time, dt_pred_time = train_and_evaluate(dt, train_df, test_df)\n",
        "\n",
        "print(f\"Decision Tree RMSE: {dt_rmse}, Training Time: {dt_train_time}s, Prediction Time: {dt_pred_time}s\")\n"
      ],
      "metadata": {
        "colab": {
          "base_uri": "https://localhost:8080/"
        },
        "id": "UG9tGLmjvRA0",
        "outputId": "d87e442b-379c-45cd-da2c-931bcca7597b"
      },
      "execution_count": 22,
      "outputs": [
        {
          "output_type": "stream",
          "name": "stdout",
          "text": [
            "Decision Tree RMSE: 28851.997603213604, Training Time: 3.3567380905151367s, Prediction Time: 0.20830988883972168s\n"
          ]
        }
      ]
    },
    {
      "cell_type": "code",
      "source": [
        "from pyspark.ml.regression import GBTRegressor\n",
        "\n",
        "# Gradient-Boosted Trees model\n",
        "gbt = GBTRegressor(featuresCol=\"scaled_features\", labelCol=\"label\")\n",
        "\n",
        "# Train and evaluate Gradient-Boosted Trees\n",
        "gbt_rmse, gbt_train_time, gbt_pred_time = train_and_evaluate(gbt, train_df, test_df)\n",
        "\n",
        "print(f\"GBT RMSE: {gbt_rmse}, Training Time: {gbt_train_time}s, Prediction Time: {gbt_pred_time}s\")\n"
      ],
      "metadata": {
        "colab": {
          "base_uri": "https://localhost:8080/"
        },
        "id": "AZvOrt6GvT8a",
        "outputId": "f53825a2-8078-4542-bc41-29da8af82702"
      },
      "execution_count": 23,
      "outputs": [
        {
          "output_type": "stream",
          "name": "stdout",
          "text": [
            "GBT RMSE: 27726.784078484547, Training Time: 12.952322959899902s, Prediction Time: 0.09598970413208008s\n"
          ]
        }
      ]
    },
    {
      "cell_type": "code",
      "source": [
        "import xgboost as xgb\n",
        "from pyspark.ml.linalg import Vectors\n",
        "import numpy as np\n",
        "import time  # For benchmarking\n",
        "\n",
        "# Function to train, evaluate, and save XGBoost model\n",
        "def xgboost_model(train_df, test_df, model_save_path=\"xgboost_job_model.json\"):\n",
        "    # Convert PySpark DataFrame to Pandas for compatibility with XGBoost\n",
        "    train_pd = train_df.select(\"scaled_features\", \"label\").toPandas()\n",
        "    test_pd = test_df.select(\"scaled_features\", \"label\").toPandas()\n",
        "\n",
        "    # Extract features and labels as numpy arrays\n",
        "    X_train = np.array(train_pd['scaled_features'].tolist())\n",
        "    y_train = np.array(train_pd['label'])\n",
        "    X_test = np.array(test_pd['scaled_features'].tolist())\n",
        "    y_test = np.array(test_pd['label'])\n",
        "\n",
        "    # Create DMatrix objects for XGBoost\n",
        "    dtrain = xgb.DMatrix(X_train, label=y_train)\n",
        "    dtest = xgb.DMatrix(X_test, label=y_test)\n",
        "\n",
        "    # Set XGBoost parameters\n",
        "    param = {'objective': 'reg:squarederror'}\n",
        "\n",
        "    # Train the model and time the process\n",
        "    start_train_time = time.time()\n",
        "    model = xgb.train(param, dtrain, num_boost_round=100)\n",
        "    end_train_time = time.time()\n",
        "    training_time = end_train_time - start_train_time\n",
        "\n",
        "    # Save the trained model\n",
        "    model.save_model(model_save_path)\n",
        "\n",
        "    # Predict and time the prediction\n",
        "    start_pred_time = time.time()\n",
        "    y_pred = model.predict(dtest)\n",
        "    end_pred_time = time.time()\n",
        "    prediction_time = end_pred_time - start_pred_time\n",
        "\n",
        "    # Calculate RMSE\n",
        "    rmse = np.sqrt(((y_pred - y_test) ** 2).mean())\n",
        "\n",
        "    print(f\"XGBoost RMSE: {rmse}, Training Time: {training_time}s, Prediction Time: {prediction_time}s\")\n",
        "    print(f\"Model saved to: {model_save_path}\")\n",
        "\n",
        "    return rmse, training_time, prediction_time  # Return metrics\n",
        "\n",
        "\n",
        "# Call the function and store the returned values\n",
        "rmse, training_time, prediction_time = xgboost_model(train_df, test_df)\n",
        "\n",
        "# Display the output\n",
        "print(f\"XGBOOST RMSE: {rmse}, Training Time: {training_time}s, Prediction Time: {prediction_time}s\")\n"
      ],
      "metadata": {
        "id": "YolE1qwwvagH",
        "colab": {
          "base_uri": "https://localhost:8080/"
        },
        "outputId": "8a4a6c3c-8c60-46ab-889c-ee8f0554c0ff"
      },
      "execution_count": 44,
      "outputs": [
        {
          "output_type": "stream",
          "name": "stdout",
          "text": [
            "XGBoost RMSE: 24586.3789647383, Training Time: 0.32874178886413574s, Prediction Time: 0.007997989654541016s\n",
            "Model saved to: xgboost_job_model.json\n",
            "XGBOOST RMSE: 24586.3789647383, Training Time: 0.32874178886413574s, Prediction Time: 0.007997989654541016s\n"
          ]
        }
      ]
    },
    {
      "cell_type": "code",
      "source": [
        "from sklearn.neighbors import KNeighborsRegressor\n",
        "import numpy as np\n",
        "import time  # Import time for benchmarking\n",
        "\n",
        "# Function to use scikit-learn KNN for regression with timing\n",
        "def knn_model(train_df, test_df, k=5):\n",
        "    # Convert to Pandas for sklearn (PySpark doesn't support sklearn models natively)\n",
        "    train_pd = train_df.select(\"scaled_features\", \"label\").toPandas()\n",
        "    test_pd = test_df.select(\"scaled_features\", \"label\").toPandas()\n",
        "\n",
        "    # Prepare the training data (features and labels)\n",
        "    X_train = np.array(train_pd['scaled_features'].tolist())\n",
        "    y_train = np.array(train_pd['label'])\n",
        "\n",
        "    # Prepare the test data\n",
        "    X_test = np.array(test_pd['scaled_features'].tolist())\n",
        "    y_test = np.array(test_pd['label'])\n",
        "\n",
        "    # Train KNN model\n",
        "    knn = KNeighborsRegressor(n_neighbors=k)\n",
        "    start_train_time = time.time()\n",
        "    knn.fit(X_train, y_train)\n",
        "    end_train_time = time.time()\n",
        "    training_time = end_train_time - start_train_time\n",
        "\n",
        "    # Make predictions\n",
        "    start_pred_time = time.time()\n",
        "    y_pred = knn.predict(X_test)\n",
        "    end_pred_time = time.time()\n",
        "    prediction_time = end_pred_time - start_pred_time\n",
        "\n",
        "    # Evaluate RMSE\n",
        "    rmse = np.sqrt(((y_pred - y_test) ** 2).mean())\n",
        "\n",
        "    return rmse, training_time, prediction_time  # Return RMSE, training time, and prediction time\n",
        "# Execute the KNN model\n",
        "rmse, training_time, prediction_time = knn_model(train_df, test_df, k=5)\n",
        "print(f\"KNN RMSE: {rmse:.15f}, Training Time: {training_time}s, Prediction Time: {prediction_time}s\")\n"
      ],
      "metadata": {
        "id": "DF_7on2QvcWG",
        "colab": {
          "base_uri": "https://localhost:8080/"
        },
        "outputId": "280430c3-5201-4726-bb09-bb972a046eac"
      },
      "execution_count": 43,
      "outputs": [
        {
          "output_type": "stream",
          "name": "stdout",
          "text": [
            "KNN RMSE: 27589.652211945700401, Training Time: 0.0016388893127441406s, Prediction Time: 0.0020875930786132812s\n"
          ]
        }
      ]
    },
    {
      "cell_type": "code",
      "source": [
        "import time\n",
        "from pyspark.sql import SparkSession\n",
        "from pyspark.ml.feature import StringIndexer, VectorAssembler, StandardScaler\n",
        "import numpy as np\n",
        "from sklearn.neural_network import MLPRegressor\n",
        "from sklearn.metrics import mean_squared_error\n",
        "\n",
        "# Initialize Spark session\n",
        "spark = SparkSession.builder.appName(\"MLP_Regression_Fix\").getOrCreate()\n",
        "\n",
        "\n",
        "df = spark.read.csv(file_path, header=True, inferSchema=True)\n",
        "df = df.withColumnRenamed(\"salary_avg\", \"label\")\n",
        "\n",
        "categorical_cols = [\"title\", \"search_city\"]\n",
        "for col_name in categorical_cols:\n",
        "    indexer = StringIndexer(inputCol=col_name, outputCol=f\"{col_name}_index\").fit(df)\n",
        "    df = indexer.transform(df)\n",
        "\n",
        "assembler = VectorAssembler(inputCols=[f\"{col}_index\" for col in categorical_cols], outputCol=\"features\")\n",
        "df = assembler.transform(df)\n",
        "\n",
        "scaler = StandardScaler(inputCol=\"features\", outputCol=\"scaled_features\")\n",
        "scaler_model = scaler.fit(df)\n",
        "df = scaler_model.transform(df)\n",
        "\n",
        "# Split data into training and test sets\n",
        "train_df, test_df = df.randomSplit([0.8, 0.2], seed=42)\n",
        "\n",
        "# Convert Spark DataFrame to NumPy arrays\n",
        "def to_numpy(spark_df):\n",
        "    pandas_df = spark_df.select(\"scaled_features\", \"label\").toPandas()\n",
        "    X = np.array(pandas_df[\"scaled_features\"].tolist())\n",
        "    y = pandas_df[\"label\"].values\n",
        "    return X, y\n",
        "\n",
        "X_train, y_train = to_numpy(train_df)\n",
        "X_test, y_test = to_numpy(test_df)\n",
        "\n",
        "# Train and evaluate MLP Regressor\n",
        "def train_and_evaluate(X_train, y_train, X_test, y_test):\n",
        "    mlp = MLPRegressor(hidden_layer_sizes=(100, 50), activation='relu', solver='adam', max_iter=500, random_state=42)\n",
        "\n",
        "    # Training\n",
        "    start_train_time = time.time()\n",
        "    mlp.fit(X_train, y_train)\n",
        "    end_train_time = time.time()\n",
        "    training_time = end_train_time - start_train_time\n",
        "\n",
        "    # Prediction\n",
        "    start_pred_time = time.time()\n",
        "    y_pred = mlp.predict(X_test)\n",
        "    end_pred_time = time.time()\n",
        "    prediction_time = end_pred_time - start_pred_time\n",
        "\n",
        "    # Evaluate RMSE\n",
        "    rmse = np.sqrt(mean_squared_error(y_test, y_pred))\n",
        "\n",
        "    return rmse, training_time, prediction_time\n",
        "\n",
        "rmse, training_time, prediction_time = train_and_evaluate(X_train, y_train, X_test, y_test)\n",
        "\n",
        "# Output results\n",
        "print(f\"MLP Regressor RMSE: {rmse}\")\n",
        "print(f\"Training Time: {training_time:.2f} seconds\")\n",
        "print(f\"Prediction Time: {prediction_time:.2f} seconds\")\n"
      ],
      "metadata": {
        "colab": {
          "base_uri": "https://localhost:8080/"
        },
        "id": "e5gBgMFXzXue",
        "outputId": "e9bed681-57b3-4660-a769-b5957d6ebcf4"
      },
      "execution_count": 31,
      "outputs": [
        {
          "output_type": "stream",
          "name": "stdout",
          "text": [
            "MLP Regressor RMSE: 31933.6975055899\n",
            "Training Time: 11.08 seconds\n",
            "Prediction Time: 0.00 seconds\n"
          ]
        }
      ]
    },
    {
      "source": [
        "import time\n",
        "from pyspark.sql import SparkSession\n",
        "from pyspark.ml.feature import StringIndexer, VectorAssembler, StandardScaler\n",
        "import numpy as np\n",
        "from sklearn.neural_network import MLPRegressor\n",
        "from sklearn.metrics import mean_squared_error\n",
        "from pyspark.sql.types import *\n",
        "\n",
        "# Include all models in a dictionary for benchmarking\n",
        "models = {\n",
        "    \"Linear Regression\": lr,\n",
        "    \"Random Forest\": rf,\n",
        "    \"Decision Tree\": dt,\n",
        "    \"GBT\": gbt,\n",
        "    \"SVM\": LinearRegression(featuresCol=\"scaled_features\", labelCol=\"label\"),\n",
        "    \"XGBoost\": xgboost_model,\n",
        "    \"KNN\": knn_model,\n",
        "    # \"MLP\": mlp  # Remove from here, add after training\n",
        "}\n",
        "\n",
        "# Rename the original train_and_evaluate function to train_and_evaluate_pyspark\n",
        "def train_and_evaluate_pyspark(model, train_df, test_df):\n",
        "    start_train_time = time.time()\n",
        "    model_fitted = model.fit(train_df)\n",
        "    end_train_time = time.time()\n",
        "\n",
        "    # Prediction\n",
        "    start_pred_time = time.time()\n",
        "    predictions = model_fitted.transform(test_df)\n",
        "    end_pred_time = time.time()\n",
        "\n",
        "    # Evaluation - RMSE\n",
        "    from pyspark.ml.evaluation import RegressionEvaluator\n",
        "    evaluator = RegressionEvaluator(labelCol=\"label\", predictionCol=\"prediction\", metricName=\"rmse\")\n",
        "    rmse = evaluator.evaluate(predictions)\n",
        "\n",
        "    return rmse, (end_train_time - start_train_time), (end_pred_time - start_pred_time)\n",
        "\n",
        "# Convert Spark DataFrame to NumPy arrays\n",
        "def to_numpy(spark_df):\n",
        "    pandas_df = spark_df.select(\"scaled_features\", \"label\").toPandas()\n",
        "    X = np.array(pandas_df[\"scaled_features\"].tolist())\n",
        "    y = pandas_df[\"label\"].values\n",
        "    return X, y\n",
        "\n",
        "X_train, y_train = to_numpy(train_df)\n",
        "X_test, y_test = to_numpy(test_df)\n",
        "\n",
        "# Train and evaluate MLP Regressor - modified to return the trained model\n",
        "def train_and_evaluate_mlp(X_train, y_train, X_test, y_test):\n",
        "    mlp = MLPRegressor(hidden_layer_sizes=(100, 50), activation='relu', solver='adam', max_iter=500, random_state=42)\n",
        "\n",
        "    # Training\n",
        "    start_train_time = time.time()\n",
        "    mlp.fit(X_train, y_train)\n",
        "    end_train_time = time.time()\n",
        "    training_time = end_train_time - start_train_time\n",
        "\n",
        "    # Prediction\n",
        "    start_pred_time = time.time()\n",
        "    y_pred = mlp.predict(X_test)\n",
        "    end_pred_time = time.time()\n",
        "    prediction_time = end_pred_time - start_pred_time\n",
        "\n",
        "    # Evaluate RMSE\n",
        "    rmse = np.sqrt(mean_squared_error(y_test, y_pred))\n",
        "\n",
        "    return rmse, training_time, prediction_time, mlp # Return mlp model\n",
        "\n",
        "rmse, training_time, prediction_time, mlp_model = train_and_evaluate_mlp(X_train, y_train, X_test, y_test)\n",
        "models[\"MLP\"] = mlp_model # Add the trained MLP model to the dictionary\n",
        "\n",
        "print(f\"MLP Regressor RMSE: {rmse}\")\n",
        "print(f\"Training Time: {training_time:.2f} seconds\")\n",
        "print(f\"Prediction Time: {prediction_time:.2f} seconds\")\n",
        "\n",
        "\n",
        "results = []\n",
        "\n",
        "for model_name, model in models.items():\n",
        "    print(f\"Training {model_name}...\")\n",
        "    if model_name in (\"KNN\", \"XGBoost\"):\n",
        "        rmse, training_time, prediction_time = model(train_df, test_df)\n",
        "        if model_name == \"KNN\":\n",
        "            rmse, training_time, prediction_time = model(train_df, test_df, k=5)\n",
        "    elif model_name == \"MLP\": # Special handling for MLP\n",
        "        rmse, training_time, prediction_time = train_and_evaluate(X_train, y_train, X_test, y_test)\n",
        "    else:\n",
        "        # Call the correct train_and_evaluate function for PySpark models\n",
        "        rmse, training_time, prediction_time = train_and_evaluate_pyspark(model, train_df, test_df)\n",
        "\n",
        "    results.append({\n",
        "        \"Model\": model_name,\n",
        "        \"RMSE\": float(rmse),\n",
        "        \"Training Time (s)\": training_time,\n",
        "        \"Prediction Time (s)\": prediction_time\n",
        "    })\n",
        "    print(f\"{model_name} RMSE: {rmse}, Training Time: {training_time}s, Prediction Time: {prediction_time}s\")\n",
        "\n",
        "\n",
        "\n",
        "# Displaying the comparison results\n",
        "schema = StructType([\n",
        "    StructField(\"Model\", StringType(), True),\n",
        "    StructField(\"RMSE\", FloatType(), True),\n",
        "    StructField(\"Training Time (s)\", FloatType(), True),\n",
        "    StructField(\"Prediction Time (s)\", FloatType(), True)\n",
        "])\n",
        "\n",
        "result_df = spark.createDataFrame(results, schema=schema)\n",
        "result_df.show()\n",
        "\n",
        "# Identifying the best model\n",
        "best_model_info = result_df.orderBy(\"RMSE\").first()\n",
        "print(f\"The best model is: {best_model_info['Model']} with RMSE: {best_model_info['RMSE']}\")"
      ],
      "cell_type": "code",
      "metadata": {
        "colab": {
          "base_uri": "https://localhost:8080/"
        },
        "id": "Xv4symNIG4R1",
        "outputId": "79d0d565-d7c2-463d-f3f5-6514f8d29a10"
      },
      "execution_count": 62,
      "outputs": [
        {
          "output_type": "stream",
          "name": "stdout",
          "text": [
            "MLP Regressor RMSE: 31933.6975055899\n",
            "Training Time: 12.65 seconds\n",
            "Prediction Time: 0.00 seconds\n",
            "Training Linear Regression...\n",
            "Linear Regression RMSE: 31936.86640913991, Training Time: 0.5137736797332764s, Prediction Time: 0.020821809768676758s\n",
            "Training Random Forest...\n",
            "Random Forest RMSE: 28580.43717064462, Training Time: 1.3545455932617188s, Prediction Time: 0.10913729667663574s\n",
            "Training Decision Tree...\n",
            "Decision Tree RMSE: 28851.997603213604, Training Time: 0.8409931659698486s, Prediction Time: 0.04826617240905762s\n",
            "Training GBT...\n",
            "GBT RMSE: 27726.784078484547, Training Time: 8.096260786056519s, Prediction Time: 0.07238101959228516s\n",
            "Training SVM...\n",
            "SVM RMSE: 31936.86640913991, Training Time: 0.5503950119018555s, Prediction Time: 0.02073526382446289s\n",
            "Training XGBoost...\n",
            "XGBoost RMSE: 24586.3789647383, Training Time: 0.08410120010375977s, Prediction Time: 0.0018291473388671875s\n",
            "Model saved to: xgboost_job_model.json\n",
            "XGBoost RMSE: 24586.3789647383, Training Time: 0.08410120010375977s, Prediction Time: 0.0018291473388671875s\n",
            "Training KNN...\n",
            "KNN RMSE: 27589.6522119457, Training Time: 0.002193927764892578s, Prediction Time: 0.0028994083404541016s\n",
            "Training MLP...\n",
            "MLP RMSE: 31933.6975055899, Training Time: 11.517359733581543s, Prediction Time: 0.0011277198791503906s\n",
            "+-----------------+---------+-----------------+-------------------+\n",
            "|            Model|     RMSE|Training Time (s)|Prediction Time (s)|\n",
            "+-----------------+---------+-----------------+-------------------+\n",
            "|Linear Regression|31936.867|        0.5137737|         0.02082181|\n",
            "|    Random Forest|28580.438|        1.3545456|          0.1091373|\n",
            "|    Decision Tree|28851.998|       0.84099317|        0.048266172|\n",
            "|              GBT|27726.783|         8.096261|         0.07238102|\n",
            "|              SVM|31936.867|         0.550395|        0.020735264|\n",
            "|          XGBoost|24586.379|        0.0841012|       0.0018291473|\n",
            "|              KNN|27589.652|     0.0021939278|       0.0028994083|\n",
            "|              MLP|31933.697|         11.51736|       0.0011277199|\n",
            "+-----------------+---------+-----------------+-------------------+\n",
            "\n",
            "The best model is: XGBoost with RMSE: 24586.37890625\n"
          ]
        }
      ]
    },
    {
      "cell_type": "code",
      "source": [
        "import matplotlib.pyplot as plt\n",
        "import pandas as pd\n",
        "\n",
        "# Convert the results list to a pandas DataFrame for easier plotting\n",
        "results_df = pd.DataFrame(results)\n",
        "\n",
        "# Plotting the metrics\n",
        "fig, ax = plt.subplots(1, 3, figsize=(18, 6))\n",
        "\n",
        "# Training Time Plot\n",
        "ax[0].barh(results_df['Model'], results_df['Training Time (s)'], color='skyblue')\n",
        "ax[0].set_xlabel('Training Time (seconds)')\n",
        "ax[0].set_title('Model Training Time')\n",
        "\n",
        "# Prediction Time Plot\n",
        "ax[1].barh(results_df['Model'], results_df['Prediction Time (s)'], color='salmon')\n",
        "ax[1].set_xlabel('Prediction Time (seconds)')\n",
        "ax[1].set_title('Model Prediction Time')\n",
        "\n",
        "# RMSE Plot\n",
        "ax[2].barh(results_df['Model'], results_df['RMSE'], color='lightgreen')\n",
        "ax[2].set_xlabel('RMSE')\n",
        "ax[2].set_title('Model RMSE')\n",
        "\n",
        "plt.tight_layout()\n",
        "plt.show()\n"
      ],
      "metadata": {
        "colab": {
          "base_uri": "https://localhost:8080/",
          "height": 440
        },
        "id": "9_IBmx6kYf1Z",
        "outputId": "cc3815d1-56e8-4bdb-f309-08507fe478c4"
      },
      "execution_count": 63,
      "outputs": [
        {
          "output_type": "display_data",
          "data": {
            "text/plain": [
              "<Figure size 1800x600 with 3 Axes>"
            ],
            "image/png": "[encoded data removed]"
          },
          "metadata": {}
        }
      ]
    },
    {
      "cell_type": "code",
      "source": [
        "def predict_salary(job_title: str, search_city: str):\n",
        "    # Step A: Create a new DataFrame for the user input\n",
        "    user_df = spark.createDataFrame([(job_title, search_city)], [\"title\", \"search_city\"])\n",
        "\n",
        "    # Step B: Apply StringIndexers for title and search_city\n",
        "    title_indexer = StringIndexer(inputCol=\"title\", outputCol=\"title_index_new\").fit(df)\n",
        "    user_df = title_indexer.transform(user_df)\n",
        "\n",
        "    city_indexer = StringIndexer(inputCol=\"search_city\", outputCol=\"search_city_index_new\").fit(df)\n",
        "    user_df = city_indexer.transform(user_df)\n",
        "\n",
        "    # Step C: Assemble features using the new index columns\n",
        "    assembler = VectorAssembler(inputCols=[\"title_index_new\", \"search_city_index_new\"], outputCol=\"features\")\n",
        "    user_df = assembler.transform(user_df)\n",
        "\n",
        "    # Step D: Scale features using the scaler model\n",
        "    user_df = scaler_model.transform(user_df)\n",
        "\n",
        "    # Step E: Convert scaled features to numpy for XGBoost\n",
        "    user_features = np.array(user_df.select(\"scaled_features\").collect()[0][0])\n",
        "    dinput = xgb.DMatrix(np.array([user_features]))\n",
        "\n",
        "    # Step F: Get prediction using XGBoost model\n",
        "    predicted_salary = model.predict(dinput)[0]\n",
        "\n",
        "    return predicted_salary\n",
        "\n",
        "# Example: Take input from user\n",
        "job_input = input(\"Enter job title: \")\n",
        "city_input = input(\"Enter location: \")\n",
        "\n",
        "# Get prediction\n",
        "predicted_salary = predict_salary(job_input, city_input)\n",
        "print(f\"Predicted Average Salary (XGBoost): ${predicted_salary:.2f}\")"
      ],
      "metadata": {
        "id": "Eh64Dh6U-Uyy",
        "colab": {
          "base_uri": "https://localhost:8080/"
        },
        "outputId": "1b33778e-5006-45ba-bf0b-f573df9c718f"
      },
      "execution_count": 60,
      "outputs": [
        {
          "output_type": "stream",
          "name": "stdout",
          "text": [
            "Enter job title: CTO\n",
            "Enter location: Denver\n",
            "Predicted Average Salary (XGBoost): $60163.19\n"
          ]
        }
      ]
    }
  ]
}